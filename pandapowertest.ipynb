{
 "cells": [
  {
   "cell_type": "code",
   "execution_count": 7,
   "metadata": {},
   "outputs": [
    {
     "name": "stderr",
     "output_type": "stream",
     "text": [
      "numba cannot be imported and numba functions are disabled.\n",
      "Probably the execution is slow.\n",
      "Please install numba to gain a massive speedup.\n",
      "(or if you prefer slow execution, set the flag numba=False to avoid this warning!)\n"
     ]
    },
    {
     "name": "stdout",
     "output_type": "stream",
     "text": [
      "This pandapower network includes the following parameter tables:\n",
      "   - bus (5 elements)\n",
      "   - load (1 element)\n",
      "   - switch (3 elements)\n",
      "   - ext_grid (1 element)\n",
      "   - line (1 element)\n",
      "\n",
      "潮流计算结果：\n",
      "母线电压 (pu):\n",
      " 0    1.02000\n",
      "1    1.02000\n",
      "2        NaN\n",
      "3    1.02007\n",
      "4    1.02007\n",
      "Name: vm_pu, dtype: float64\n",
      "线路潮流 (MW):\n",
      " 0    0.000036\n",
      "Name: p_from_mw, dtype: float64\n"
     ]
    }
   ],
   "source": [
    "import pandapower as pp\n",
    "# 1. 创建一个空的pandapower网络\n",
    "net = pp.create_empty_network()\n",
    "\n",
    "# 2. 添加4个母线\n",
    "# 母线电压通常设定为 kV\n",
    "bus1 = pp.create_bus(net, vn_kv=20., name=\"Bus 1\")\n",
    "bus2 = pp.create_bus(net, vn_kv=20., name=\"Bus 2\")\n",
    "bus3 = pp.create_bus(net, vn_kv=20., name=\"Bus 3\")\n",
    "bus4 = pp.create_bus(net, vn_kv=20., name=\"Bus 4\")\n",
    "bus5 = pp.create_bus(net, vn_kv=20., name=\"Bus 4\")\n",
    "\n",
    "# 3. 母线 1、2 通过 switch 相连\n",
    "# 修正后的创建方式：bus=一个母线, element=另一个母线, et=\"b\"\n",
    "pp.create_switch(net, bus=bus1, element=bus2, et=\"b\", closed=True, name=\"Switch 1-2\")\n",
    "\n",
    "# 4. 母线 3、4 通过 switch 相连\n",
    "# 修正后的创建方式：bus=一个母线, element=另一个母线, et=\"b\"\n",
    "# pp.create_switch(net, bus=bus3, element=bus4, et=\"b\", closed=True, name=\"Switch 3-4\")\n",
    "\n",
    "# 5. 线路 1 连接母线 1、3\n",
    "# 需要定义线路参数：长度 km, r_ohm_per_km, x_ohm_per_km, c_nf_per_km, max_i_ka\n",
    "# 这里我们使用一些示例值\n",
    "line1 = pp.create_line(net, from_bus=bus1, to_bus=bus5, length_km=5.0,\n",
    "               std_type=\"NAYY 4x50 SE\", name=\"Line 1-3\") # 使用标准线路类型，pandapower会填充参数\n",
    "\n",
    "## 在线路 1 和母线 3、4 之间添加两个开关\n",
    "pp.create_switch(net, bus=bus3, element=bus5, et=\"b\", closed=False, name=\"Switch 3-1\")\n",
    "pp.create_switch(net, bus=bus4, element=bus5, et=\"b\", closed=True, name=\"Switch 4-1\")\n",
    "# 6. 母线 1 有一个发电机 (可以是一个发电机 gen 或外部网架 ext_grid)\n",
    "# 通常用 ext_grid 来模拟一个连接到无限大母线或强电网的接入点\n",
    "# 如果是发电机，需要设置 P_mw 和 vm_pu (电压标幺值)\n",
    "pp.create_ext_grid(net, bus=bus1, vm_pu=1.02, va_degree=0, name=\"External Grid at Bus 1\")\n",
    "\n",
    "# 如果您想模拟一个普通的同步发电机 (gen)，示例如下：\n",
    "# pp.create_gen(net, bus=bus1, p_mw=10., vm_pu=1.01, name=\"Generator at Bus 1\")\n",
    "\n",
    "\n",
    "# 7. 母线 3 有一个 PQ 负荷\n",
    "# 需要定义 P_mw 和 Q_mvar\n",
    "pp.create_load(net, bus=bus3, p_mw=5., q_mvar=2., name=\"Load at Bus 3\")\n",
    "\n",
    "# 打印网络概览以确认所有组件是否正确添加\n",
    "print(net)\n",
    "\n",
    "# 运行潮流计算（可选，但通常是创建算例的目的）\n",
    "try:\n",
    "    pp.runpp(net)\n",
    "    print(\"\\n潮流计算结果：\")\n",
    "    print(\"母线电压 (pu):\\n\", net.res_bus.vm_pu)\n",
    "    print(\"线路潮流 (MW):\\n\", net.res_line.p_from_mw)\n",
    "except Exception as e:\n",
    "    print(f\"\\n潮流计算失败: {e}\")\n",
    "    print(\"请检查网络连接或参数设置。\")\n"
   ]
  },
  {
   "cell_type": "code",
   "execution_count": null,
   "metadata": {},
   "outputs": [],
   "source": []
  }
 ],
 "metadata": {
  "kernelspec": {
   "display_name": ".venv",
   "language": "python",
   "name": "python3"
  },
  "language_info": {
   "codemirror_mode": {
    "name": "ipython",
    "version": 3
   },
   "file_extension": ".py",
   "mimetype": "text/x-python",
   "name": "python",
   "nbconvert_exporter": "python",
   "pygments_lexer": "ipython3",
   "version": "3.12.9"
  }
 },
 "nbformat": 4,
 "nbformat_minor": 2
}
